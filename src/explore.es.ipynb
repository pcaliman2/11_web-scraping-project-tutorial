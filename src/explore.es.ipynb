{
    "cells": [
        {
            "cell_type": "markdown",
            "metadata": {},
            "source": [
                "# Explora aquí\n",
                "\n",
                "Se recomienda utilizar este cuaderno con fines de exploración."
            ]
        },
        {
            "cell_type": "code",
            "execution_count": 2,
            "metadata": {},
            "outputs": [
                {
                    "name": "stdout",
                    "output_type": "stream",
                    "text": [
                        "Estado: 200\n"
                    ]
                }
            ],
            "source": [
                "import requests\n",
                "from bs4 import BeautifulSoup\n",
                "import pandas as pd\n",
                "import sqlite3\n",
                "import matplotlib.pyplot as plt\n",
                "import seaborn as sns\n",
                "import io\n",
                "\n",
                "# Obtener el HTML\n",
                "url = \"https://en.wikipedia.org/wiki/List_of_most-streamed_songs_on_Spotify\"\n",
                "response = requests.get(url)\n",
                "# Verificamos la respuesta\n",
                "print(\"Estado:\", response.status_code)\n",
                "\n"
            ]
        },
        {
            "cell_type": "code",
            "execution_count": 3,
            "metadata": {},
            "outputs": [
                {
                    "name": "stdout",
                    "output_type": "stream",
                    "text": [
                        "Se encontraron 27 tablas.\n"
                    ]
                }
            ],
            "source": [
                "# Extraer las tablas con pandas\n",
                "html = io.StringIO(response.text)\n",
                "tables = pd.read_html(html)\n",
                "print(f\"Se encontraron {len(tables)} tablas.\")"
            ]
        },
        {
            "cell_type": "code",
            "execution_count": 4,
            "metadata": {},
            "outputs": [
                {
                    "data": {
                        "text/html": [
                            "<div>\n",
                            "<style scoped>\n",
                            "    .dataframe tbody tr th:only-of-type {\n",
                            "        vertical-align: middle;\n",
                            "    }\n",
                            "\n",
                            "    .dataframe tbody tr th {\n",
                            "        vertical-align: top;\n",
                            "    }\n",
                            "\n",
                            "    .dataframe thead th {\n",
                            "        text-align: right;\n",
                            "    }\n",
                            "</style>\n",
                            "<table border=\"1\" class=\"dataframe\">\n",
                            "  <thead>\n",
                            "    <tr style=\"text-align: right;\">\n",
                            "      <th></th>\n",
                            "      <th>Rank</th>\n",
                            "      <th>Song</th>\n",
                            "      <th>Artist(s)</th>\n",
                            "      <th>Streams (billions)</th>\n",
                            "      <th>Release date</th>\n",
                            "      <th>Ref.</th>\n",
                            "    </tr>\n",
                            "  </thead>\n",
                            "  <tbody>\n",
                            "    <tr>\n",
                            "      <th>0</th>\n",
                            "      <td>1</td>\n",
                            "      <td>\"Blinding Lights\"</td>\n",
                            "      <td>The Weeknd</td>\n",
                            "      <td>4.883</td>\n",
                            "      <td>29 November 2019</td>\n",
                            "      <td>[2]</td>\n",
                            "    </tr>\n",
                            "    <tr>\n",
                            "      <th>1</th>\n",
                            "      <td>2</td>\n",
                            "      <td>\"Shape of You\"</td>\n",
                            "      <td>Ed Sheeran</td>\n",
                            "      <td>4.406</td>\n",
                            "      <td>6 January 2017</td>\n",
                            "      <td>[3]</td>\n",
                            "    </tr>\n",
                            "    <tr>\n",
                            "      <th>2</th>\n",
                            "      <td>3</td>\n",
                            "      <td>\"Starboy\"</td>\n",
                            "      <td>The Weeknd and Daft Punk</td>\n",
                            "      <td>3.941</td>\n",
                            "      <td>21 September 2016</td>\n",
                            "      <td>[4]</td>\n",
                            "    </tr>\n",
                            "    <tr>\n",
                            "      <th>3</th>\n",
                            "      <td>4</td>\n",
                            "      <td>\"Someone You Loved\"</td>\n",
                            "      <td>Lewis Capaldi</td>\n",
                            "      <td>3.937</td>\n",
                            "      <td>8 November 2018</td>\n",
                            "      <td>[5]</td>\n",
                            "    </tr>\n",
                            "    <tr>\n",
                            "      <th>4</th>\n",
                            "      <td>5</td>\n",
                            "      <td>\"As It Was\"</td>\n",
                            "      <td>Harry Styles</td>\n",
                            "      <td>3.921</td>\n",
                            "      <td>1 April 2022</td>\n",
                            "      <td>[6]</td>\n",
                            "    </tr>\n",
                            "  </tbody>\n",
                            "</table>\n",
                            "</div>"
                        ],
                        "text/plain": [
                            "  Rank                 Song                 Artist(s) Streams (billions)  \\\n",
                            "0    1    \"Blinding Lights\"                The Weeknd              4.883   \n",
                            "1    2       \"Shape of You\"                Ed Sheeran              4.406   \n",
                            "2    3            \"Starboy\"  The Weeknd and Daft Punk              3.941   \n",
                            "3    4  \"Someone You Loved\"             Lewis Capaldi              3.937   \n",
                            "4    5          \"As It Was\"              Harry Styles              3.921   \n",
                            "\n",
                            "        Release date Ref.  \n",
                            "0   29 November 2019  [2]  \n",
                            "1     6 January 2017  [3]  \n",
                            "2  21 September 2016  [4]  \n",
                            "3    8 November 2018  [5]  \n",
                            "4       1 April 2022  [6]  "
                        ]
                    },
                    "execution_count": 4,
                    "metadata": {},
                    "output_type": "execute_result"
                }
            ],
            "source": [
                "# Inspeccionamos las primeras filas de la tabla correcta\n",
                "df = tables[0] # extrae la primera tabla de las 27 encontradas\n",
                "df.head()  # Muestra las primeras 5 filas"
            ]
        },
        {
            "cell_type": "markdown",
            "metadata": {},
            "source": [
                "## Procesar datos"
            ]
        },
        {
            "cell_type": "code",
            "execution_count": null,
            "metadata": {},
            "outputs": [],
            "source": [
                "# Limpieza de datos\n",
                "\n",
                "# Renombramos columnas si es necesario\n",
                "df.columns = [\"Rank\", \"Song\", \"Artist\", \"Streams (billions)\", \"Date released\", \"Reference\"]\n",
                "\n",
                "# Eliminamos notas entre corchetes\n",
                "df[\"Song\"] = df[\"Song\"].str.replace(r\"\\[.*?\\]\", \"\", regex=True)\n",
                "df[\"Artist\"] = df[\"Artist\"].str.replace(r\"\\[.*?\\]\", \"\", regex=True)\n",
                "\n",
                "df = df[df[\"Streams (billions)\"].astype(str).str.contains(r\"^\\d+(?:\\.\\d+)?$\", na=False)].copy()\n",
                "\n",
                "# Convertimos Streams a números flotantes\n",
                "df[\"Streams (billions)\"] = df[\"Streams (billions)\"].astype(float)\n",
                "\n",
                "# Convertimos fechas a datetime\n",
                "df[\"Date released\"] = pd.to_datetime(df[\"Date released\"], errors=\"coerce\")\n",
                "\n",
                "df"
            ]
        },
        {
            "cell_type": "markdown",
            "metadata": {},
            "source": [
                "## Escritura en SQLite"
            ]
        },
        {
            "cell_type": "code",
            "execution_count": null,
            "metadata": {},
            "outputs": [],
            "source": [
                "# Create the database\n",
                "conn = sqlite3.connect(\"spotify_top_songs.db\")"
            ]
        },
        {
            "cell_type": "code",
            "execution_count": null,
            "metadata": {},
            "outputs": [],
            "source": [
                "# Create table in SQLite\n",
                "df.to_sql(\"most_streamed\", conn, if_exists=\"replace\", index=False)\n",
                "cursor = conn.cursor()"
            ]
        },
        {
            "cell_type": "code",
            "execution_count": null,
            "metadata": {},
            "outputs": [],
            "source": [
                "# Insert data into the database\n",
                "cursor.execute(\"SELECT COUNT(*) FROM most_streamed\")\n",
                "print(\"Rows inserted:\", cursor.fetchone()[0])\n",
                "\n",
                "conn.commit()\n",
                "conn.close()"
            ]
        },
        {
            "cell_type": "markdown",
            "metadata": {},
            "source": [
                "Visualizacion Datos"
            ]
        },
        {
            "cell_type": "code",
            "execution_count": null,
            "metadata": {},
            "outputs": [],
            "source": [
                "# Graficar los datos\n",
                "\n",
                "# Gráfico 1: Las 10 canciones más reproducidas\n",
                "top10 = df.nlargest(10, \"Streams (billions)\")\n",
                "plt.figure(figsize=(12, 6))\n",
                "sns.barplot(data=top10, x=\"Streams (billions)\", y=\"Song\", hue=\"Song\", palette=\"viridis\", legend=False)\n",
                "plt.title(\"Las 10 canciones más reproducidas en Spotify\")\n",
                "plt.xlabel(\"Reproducciones (en miles de millones)\")\n",
                "plt.ylabel(\"Canción\")\n",
                "plt.tight_layout()\n",
                "plt.show()"
            ]
        },
        {
            "cell_type": "code",
            "execution_count": null,
            "metadata": {},
            "outputs": [],
            "source": [
                "# Chart 2: Number of songs per year\n",
                "df[\"Year\"] = df[\"Date released\"].dt.year\n",
                "plt.figure(figsize=(10, 5))\n",
                "sns.countplot(data=df, x=\"Year\", order=sorted(df[\"Year\"].dropna().unique()))\n",
                "plt.title(\"Number of Songs in the Ranking by Release Year\")\n",
                "plt.xlabel(\"Year\")\n",
                "plt.ylabel(\"Count\")\n",
                "plt.xticks(rotation=45)\n",
                "plt.tight_layout()\n",
                "plt.show()"
            ]
        },
        {
            "cell_type": "code",
            "execution_count": null,
            "metadata": {},
            "outputs": [],
            "source": [
                "# Chart 3: Artists with the most songs in the ranking\n",
                "\n",
                "# Note: Some artists have multiple songs\n",
                "artists = df[\"Artist\"].value_counts().nlargest(10)\n",
                "\n",
                "plt.figure(figsize=(10, 6))\n",
                "sns.barplot(x=artists.values, y=artists.index, hue=artists.index, palette=\"coolwarm\", legend=False)\n",
                "plt.title(\"Artists with the Most Songs in the Ranking\")\n",
                "plt.xlabel(\"Number of Songs\")\n",
                "plt.ylabel(\"Artist\")\n",
                "plt.tight_layout()\n",
                "plt.show()"
            ]
        },
        {
            "cell_type": "code",
            "execution_count": null,
            "metadata": {},
            "outputs": [],
            "source": []
        },
        {
            "cell_type": "code",
            "execution_count": null,
            "metadata": {},
            "outputs": [],
            "source": []
        },
        {
            "cell_type": "code",
            "execution_count": null,
            "metadata": {},
            "outputs": [],
            "source": []
        },
        {
            "cell_type": "code",
            "execution_count": null,
            "metadata": {},
            "outputs": [],
            "source": []
        },
        {
            "cell_type": "code",
            "execution_count": null,
            "metadata": {},
            "outputs": [],
            "source": []
        },
        {
            "cell_type": "code",
            "execution_count": null,
            "metadata": {},
            "outputs": [],
            "source": []
        },
        {
            "cell_type": "code",
            "execution_count": null,
            "metadata": {},
            "outputs": [],
            "source": []
        },
        {
            "cell_type": "code",
            "execution_count": null,
            "metadata": {},
            "outputs": [],
            "source": []
        },
        {
            "cell_type": "code",
            "execution_count": null,
            "metadata": {},
            "outputs": [],
            "source": []
        }
    ],
    "metadata": {
        "kernelspec": {
            "display_name": "Python 3",
            "language": "python",
            "name": "python3"
        },
        "language_info": {
            "codemirror_mode": {
                "name": "ipython",
                "version": 3
            },
            "file_extension": ".py",
            "mimetype": "text/x-python",
            "name": "python",
            "nbconvert_exporter": "python",
            "pygments_lexer": "ipython3",
            "version": "3.10.2"
        },
        "orig_nbformat": 4
    },
    "nbformat": 4,
    "nbformat_minor": 2
}
